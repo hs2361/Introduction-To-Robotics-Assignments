{
 "cells": [
  {
   "cell_type": "code",
   "execution_count": 2,
   "metadata": {
    "id": "aWprP5u0NymD"
   },
   "outputs": [
    {
     "name": "stderr",
     "output_type": "stream",
     "text": [
      "/usr/lib/python3/dist-packages/requests/__init__.py:89: RequestsDependencyWarning: urllib3 (1.25.8) or chardet (4.0.0) doesn't match a supported version!\n",
      "  warnings.warn(\"urllib3 ({}) or chardet ({}) doesn't match a supported \"\n"
     ]
    }
   ],
   "source": [
    "#importing dependencies\n",
    "\n",
    "import pandas as pd\n",
    "import math\n",
    "import random\n",
    "import matplotlib.pyplot as plt\n",
    "from sklearn.model_selection import train_test_split\n",
    "from keras import models\n",
    "from keras import layers\n",
    "from keras import regularizers\n",
    "import numpy as np"
   ]
  },
  {
   "cell_type": "code",
   "execution_count": 3,
   "metadata": {
    "id": "c1WfsiocNz-S"
   },
   "outputs": [],
   "source": [
    "l1 = l2 = l3 = 7"
   ]
  },
  {
   "cell_type": "code",
   "execution_count": 4,
   "metadata": {
    "id": "8gYDuyTjN1do"
   },
   "outputs": [],
   "source": [
    "## Generating dataset for training\n",
    "\n",
    "def three_link_manipulator_dataset():\n",
    "    rows = []\n",
    "    for i in range(1, 100000):\n",
    "        theta1 = round(random.uniform(0, math.pi), 2)\n",
    "        theta2 = round(random.uniform(-math.pi, 0), 2)\n",
    "        theta3 = round(random.uniform(-math.pi/2, math.pi/2), 2)\n",
    "        \n",
    "        x = round(l1*math.cos(theta1)+l2*math.cos(theta1+theta2)+l3*math.cos(theta1+theta2+theta3), 2)\n",
    "        y = round(l1*math.sin(theta1)+l2*math.sin(theta1+theta2)+l3*math.sin(theta1+theta2+theta3), 2)\n",
    "        phi = round(math.degrees(theta1)+math.degrees(theta2)+math.degrees(theta3), 2)\n",
    "        \n",
    "        rows.append([theta1, theta2, theta3, x, y, phi])\n",
    "\n",
    "    df = pd.DataFrame(rows, columns=['theta1', 'theta2', 'theta3', 'x', 'y', 'phi'])\n",
    "    df.to_csv('three_link.csv', index=False)\n",
    "    \n",
    "three_link_manipulator_dataset()"
   ]
  },
  {
   "cell_type": "code",
   "execution_count": 5,
   "metadata": {
    "colab": {
     "base_uri": "https://localhost:8080/",
     "height": 195
    },
    "id": "3RBpYrFRN5Ir",
    "outputId": "fa228617-5727-4cb2-974d-05af3928a746"
   },
   "outputs": [
    {
     "data": {
      "text/html": [
       "<div>\n",
       "<style scoped>\n",
       "    .dataframe tbody tr th:only-of-type {\n",
       "        vertical-align: middle;\n",
       "    }\n",
       "\n",
       "    .dataframe tbody tr th {\n",
       "        vertical-align: top;\n",
       "    }\n",
       "\n",
       "    .dataframe thead th {\n",
       "        text-align: right;\n",
       "    }\n",
       "</style>\n",
       "<table border=\"1\" class=\"dataframe\">\n",
       "  <thead>\n",
       "    <tr style=\"text-align: right;\">\n",
       "      <th></th>\n",
       "      <th>theta1</th>\n",
       "      <th>theta2</th>\n",
       "      <th>theta3</th>\n",
       "      <th>x</th>\n",
       "      <th>y</th>\n",
       "      <th>phi</th>\n",
       "    </tr>\n",
       "  </thead>\n",
       "  <tbody>\n",
       "    <tr>\n",
       "      <th>0</th>\n",
       "      <td>1.33</td>\n",
       "      <td>-0.11</td>\n",
       "      <td>-0.82</td>\n",
       "      <td>10.52</td>\n",
       "      <td>16.10</td>\n",
       "      <td>22.92</td>\n",
       "    </tr>\n",
       "    <tr>\n",
       "      <th>1</th>\n",
       "      <td>0.27</td>\n",
       "      <td>-1.72</td>\n",
       "      <td>-0.79</td>\n",
       "      <td>3.25</td>\n",
       "      <td>-10.57</td>\n",
       "      <td>-128.34</td>\n",
       "    </tr>\n",
       "    <tr>\n",
       "      <th>2</th>\n",
       "      <td>1.82</td>\n",
       "      <td>-1.70</td>\n",
       "      <td>-0.48</td>\n",
       "      <td>11.77</td>\n",
       "      <td>5.16</td>\n",
       "      <td>-20.63</td>\n",
       "    </tr>\n",
       "    <tr>\n",
       "      <th>3</th>\n",
       "      <td>2.71</td>\n",
       "      <td>-1.93</td>\n",
       "      <td>-0.38</td>\n",
       "      <td>5.07</td>\n",
       "      <td>10.58</td>\n",
       "      <td>22.92</td>\n",
       "    </tr>\n",
       "    <tr>\n",
       "      <th>4</th>\n",
       "      <td>0.12</td>\n",
       "      <td>-0.17</td>\n",
       "      <td>1.19</td>\n",
       "      <td>16.86</td>\n",
       "      <td>6.85</td>\n",
       "      <td>65.32</td>\n",
       "    </tr>\n",
       "  </tbody>\n",
       "</table>\n",
       "</div>"
      ],
      "text/plain": [
       "   theta1  theta2  theta3      x      y     phi\n",
       "0    1.33   -0.11   -0.82  10.52  16.10   22.92\n",
       "1    0.27   -1.72   -0.79   3.25 -10.57 -128.34\n",
       "2    1.82   -1.70   -0.48  11.77   5.16  -20.63\n",
       "3    2.71   -1.93   -0.38   5.07  10.58   22.92\n",
       "4    0.12   -0.17    1.19  16.86   6.85   65.32"
      ]
     },
     "execution_count": 5,
     "metadata": {},
     "output_type": "execute_result"
    }
   ],
   "source": [
    "three_link_data = pd.read_csv('three_link.csv')\n",
    "three_link_data.head()"
   ]
  },
  {
   "cell_type": "code",
   "execution_count": 6,
   "metadata": {
    "colab": {
     "base_uri": "https://localhost:8080/",
     "height": 265
    },
    "id": "GtS_5sBaN9r_",
    "outputId": "a0160889-416e-4253-a3bb-a2fc03e704ba"
   },
   "outputs": [
    {
     "data": {
      "image/png": "[encoded data removed]",
      "text/plain": [
       "<Figure size 432x288 with 1 Axes>"
      ]
     },
     "metadata": {
      "needs_background": "light"
     },
     "output_type": "display_data"
    }
   ],
   "source": [
    "plt.scatter(three_link_data['x'], three_link_data['y'])\n",
    "plt.show()"
   ]
  },
  {
   "cell_type": "code",
   "execution_count": 7,
   "metadata": {
    "id": "B1gupLqyN_0Z"
   },
   "outputs": [],
   "source": [
    "# Splitting training and testing dataset\n",
    "X = three_link_data[['x', 'y', 'phi']]\n",
    "y = three_link_data[['theta1', 'theta2', 'theta3']]\n",
    "train_X, test_X, train_y, test_y = train_test_split(X, y, test_size=0.1)"
   ]
  },
  {
   "cell_type": "code",
   "execution_count": 8,
   "metadata": {
    "colab": {
     "base_uri": "https://localhost:8080/"
    },
    "id": "JYAMcXxXOBrg",
    "outputId": "2d11a858-6902-43b2-f92c-68d3d7a0564c"
   },
   "outputs": [
    {
     "name": "stdout",
     "output_type": "stream",
     "text": [
      "Model: \"sequential\"\n",
      "_________________________________________________________________\n",
      "Layer (type)                 Output Shape              Param #   \n",
      "=================================================================\n",
      "dense (Dense)                (None, 3)                 12        \n",
      "_________________________________________________________________\n",
      "dense_1 (Dense)              (None, 100)               400       \n",
      "_________________________________________________________________\n",
      "dense_2 (Dense)              (None, 100)               10100     \n",
      "_________________________________________________________________\n",
      "dense_3 (Dense)              (None, 3)                 303       \n",
      "=================================================================\n",
      "Total params: 10,815\n",
      "Trainable params: 10,815\n",
      "Non-trainable params: 0\n",
      "_________________________________________________________________\n"
     ]
    }
   ],
   "source": [
    "# Defining model\n",
    "\n",
    "model = models.Sequential()\n",
    "model.add(layers.Dense(units=3, input_dim=3, kernel_initializer='uniform'))\n",
    "model.add(layers.Dense(units=100, kernel_initializer='uniform', activation='relu'))\n",
    "model.add(layers.Dense(units=100, kernel_initializer='uniform', activation='relu'))\n",
    "model.add(layers.Dense(units=3, kernel_initializer = 'uniform', activation='linear'))\n",
    "\n",
    "model.summary()"
   ]
  },
  {
   "cell_type": "code",
   "execution_count": 9,
   "metadata": {
    "id": "h-VQYVlZOEa0"
   },
   "outputs": [],
   "source": [
    "model.compile(optimizer='adam', loss='mean_squared_error', metrics=['accuracy'])"
   ]
  },
  {
   "cell_type": "code",
   "execution_count": 10,
   "metadata": {
    "colab": {
     "base_uri": "https://localhost:8080/"
    },
    "id": "sOjBwo9oOGf5",
    "outputId": "a600f4c4-93fd-4845-85ca-c742e46083db"
   },
   "outputs": [
    {
     "name": "stdout",
     "output_type": "stream",
     "text": [
      "Epoch 1/30\n",
      "2532/2532 [==============================] - 8s 3ms/step - loss: 0.4382 - accuracy: 0.9025 - val_loss: 0.0455 - val_accuracy: 0.9588\n",
      "Epoch 2/30\n",
      "2532/2532 [==============================] - 8s 3ms/step - loss: 0.0429 - accuracy: 0.9640 - val_loss: 0.0358 - val_accuracy: 0.9648\n",
      "Epoch 3/30\n",
      "2532/2532 [==============================] - 8s 3ms/step - loss: 0.0311 - accuracy: 0.9701 - val_loss: 0.0283 - val_accuracy: 0.9753\n",
      "Epoch 4/30\n",
      "2532/2532 [==============================] - 8s 3ms/step - loss: 0.0260 - accuracy: 0.9741 - val_loss: 0.0210 - val_accuracy: 0.9750\n",
      "Epoch 5/30\n",
      "2532/2532 [==============================] - 8s 3ms/step - loss: 0.0241 - accuracy: 0.9765 - val_loss: 0.0264 - val_accuracy: 0.9810\n",
      "Epoch 6/30\n",
      "2532/2532 [==============================] - 7s 3ms/step - loss: 0.0220 - accuracy: 0.9797 - val_loss: 0.0216 - val_accuracy: 0.9823\n",
      "Epoch 7/30\n",
      "2532/2532 [==============================] - 8s 3ms/step - loss: 0.0203 - accuracy: 0.9794 - val_loss: 0.0243 - val_accuracy: 0.9827\n",
      "Epoch 8/30\n",
      "2532/2532 [==============================] - 8s 3ms/step - loss: 0.0194 - accuracy: 0.9796 - val_loss: 0.0166 - val_accuracy: 0.9808\n",
      "Epoch 9/30\n",
      "2532/2532 [==============================] - 8s 3ms/step - loss: 0.0179 - accuracy: 0.9800 - val_loss: 0.0213 - val_accuracy: 0.9828\n",
      "Epoch 10/30\n",
      "2532/2532 [==============================] - 8s 3ms/step - loss: 0.0190 - accuracy: 0.9784 - val_loss: 0.0159 - val_accuracy: 0.9806\n",
      "Epoch 11/30\n",
      "2532/2532 [==============================] - 8s 3ms/step - loss: 0.0171 - accuracy: 0.9801 - val_loss: 0.0265 - val_accuracy: 0.9762\n",
      "Epoch 12/30\n",
      "2532/2532 [==============================] - 8s 3ms/step - loss: 0.0165 - accuracy: 0.9812 - val_loss: 0.0165 - val_accuracy: 0.9860\n",
      "Epoch 13/30\n",
      "2532/2532 [==============================] - 8s 3ms/step - loss: 0.0157 - accuracy: 0.9820 - val_loss: 0.0154 - val_accuracy: 0.9824\n",
      "Epoch 14/30\n",
      "2532/2532 [==============================] - 8s 3ms/step - loss: 0.0161 - accuracy: 0.9822 - val_loss: 0.0151 - val_accuracy: 0.9821\n",
      "Epoch 15/30\n",
      "2532/2532 [==============================] - 7s 3ms/step - loss: 0.0156 - accuracy: 0.9822 - val_loss: 0.0184 - val_accuracy: 0.9809\n",
      "Epoch 16/30\n",
      "2532/2532 [==============================] - 7s 3ms/step - loss: 0.0150 - accuracy: 0.9829 - val_loss: 0.0161 - val_accuracy: 0.9808\n",
      "Epoch 17/30\n",
      "2532/2532 [==============================] - 8s 3ms/step - loss: 0.0140 - accuracy: 0.9822 - val_loss: 0.0129 - val_accuracy: 0.9810\n",
      "Epoch 18/30\n",
      "2532/2532 [==============================] - 8s 3ms/step - loss: 0.0143 - accuracy: 0.9821 - val_loss: 0.0130 - val_accuracy: 0.9799\n",
      "Epoch 19/30\n",
      "2532/2532 [==============================] - 8s 3ms/step - loss: 0.0139 - accuracy: 0.9835 - val_loss: 0.0133 - val_accuracy: 0.9834\n",
      "Epoch 20/30\n",
      "2532/2532 [==============================] - 8s 3ms/step - loss: 0.0141 - accuracy: 0.9829 - val_loss: 0.0120 - val_accuracy: 0.9833\n",
      "Epoch 21/30\n",
      "2532/2532 [==============================] - 7s 3ms/step - loss: 0.0135 - accuracy: 0.9846 - val_loss: 0.0149 - val_accuracy: 0.9846\n",
      "Epoch 22/30\n",
      "2532/2532 [==============================] - 6s 2ms/step - loss: 0.0131 - accuracy: 0.9854 - val_loss: 0.0165 - val_accuracy: 0.9799\n",
      "Epoch 23/30\n",
      "2532/2532 [==============================] - 5s 2ms/step - loss: 0.0124 - accuracy: 0.9848 - val_loss: 0.0152 - val_accuracy: 0.9844\n",
      "Epoch 24/30\n",
      "2532/2532 [==============================] - 8s 3ms/step - loss: 0.0129 - accuracy: 0.9851 - val_loss: 0.0097 - val_accuracy: 0.9869\n",
      "Epoch 25/30\n",
      "2532/2532 [==============================] - 8s 3ms/step - loss: 0.0126 - accuracy: 0.9849 - val_loss: 0.0144 - val_accuracy: 0.9866\n",
      "Epoch 26/30\n",
      "2532/2532 [==============================] - 8s 3ms/step - loss: 0.0127 - accuracy: 0.9837 - val_loss: 0.0103 - val_accuracy: 0.9874\n",
      "Epoch 27/30\n",
      "2532/2532 [==============================] - 7s 3ms/step - loss: 0.0131 - accuracy: 0.9849 - val_loss: 0.0203 - val_accuracy: 0.9797\n",
      "Epoch 28/30\n",
      "2532/2532 [==============================] - 8s 3ms/step - loss: 0.0130 - accuracy: 0.9843 - val_loss: 0.0096 - val_accuracy: 0.9886\n",
      "Epoch 29/30\n",
      "2532/2532 [==============================] - 5s 2ms/step - loss: 0.0121 - accuracy: 0.9855 - val_loss: 0.0117 - val_accuracy: 0.9832\n",
      "Epoch 30/30\n",
      "2532/2532 [==============================] - 4s 2ms/step - loss: 0.0120 - accuracy: 0.9849 - val_loss: 0.0147 - val_accuracy: 0.9813\n"
     ]
    }
   ],
   "source": [
    "# Training model\n",
    "history = model.fit(train_X, train_y, epochs=30, validation_split=0.1, shuffle=True)"
   ]
  },
  {
   "cell_type": "code",
   "execution_count": 11,
   "metadata": {
    "colab": {
     "base_uri": "https://localhost:8080/",
     "height": 295
    },
    "id": "0LEm7MV7OKFP",
    "outputId": "9ecd2526-c581-4a9d-c8bf-3815b878b9ee"
   },
   "outputs": [
    {
     "data": {
      "image/png": "[encoded data removed]",
      "text/plain": [
       "<Figure size 432x288 with 1 Axes>"
      ]
     },
     "metadata": {
      "needs_background": "light"
     },
     "output_type": "display_data"
    }
   ],
   "source": [
    "# Plotting model accuracy\n",
    "plt.plot(history.history['accuracy'])\n",
    "plt.plot(history.history['val_accuracy'])\n",
    "plt.title('model accuracy')\n",
    "plt.ylabel('accuracy')\n",
    "plt.xlabel('epoch')\n",
    "plt.legend(['train', 'val'], loc='upper left')\n",
    "plt.show()"
   ]
  },
  {
   "cell_type": "code",
   "execution_count": 12,
   "metadata": {
    "colab": {
     "base_uri": "https://localhost:8080/",
     "height": 295
    },
    "id": "RZud03ziOpHo",
    "outputId": "0551e0a1-bcd2-4417-b0e3-22a31eeb537d"
   },
   "outputs": [
    {
     "data": {
      "image/png": "[encoded data removed]",
      "text/plain": [
       "<Figure size 432x288 with 1 Axes>"
      ]
     },
     "metadata": {
      "needs_background": "light"
     },
     "output_type": "display_data"
    }
   ],
   "source": [
    "# Plotting model loss\n",
    "\n",
    "plt.plot(history.history['loss'])\n",
    "plt.plot(history.history['val_loss'])\n",
    "plt.title('model loss')\n",
    "plt.ylabel('loss')\n",
    "plt.xlabel('epoch')\n",
    "plt.legend(['train', 'val'], loc='upper left')\n",
    "plt.show()"
   ]
  },
  {
   "cell_type": "code",
   "execution_count": 14,
   "metadata": {
    "colab": {
     "base_uri": "https://localhost:8080/"
    },
    "id": "xCpOOHHsOrVg",
    "outputId": "8e2ac7ee-bf75-4a8b-8243-7cca9d2d0acd"
   },
   "outputs": [
    {
     "name": "stdout",
     "output_type": "stream",
     "text": [
      "313/313 [==============================] - 0s 1ms/step - loss: 0.0154 - accuracy: 0.9810\n",
      "\n",
      "Testing Loss =  0.015360100194811821\n",
      "Testing Accuracy =  0.9810000061988831\n"
     ]
    }
   ],
   "source": [
    "# Evaluating the model on test set\n",
    "\n",
    "test_loss, test_acc = model.evaluate(test_X, test_y)\n",
    "\n",
    "print('\\nTesting Loss = ', test_loss)\n",
    "print('Testing Accuracy = ', test_acc)"
   ]
  },
  {
   "cell_type": "code",
   "execution_count": 17,
   "metadata": {
    "id": "vgqCfwYrOxxJ"
   },
   "outputs": [],
   "source": [
    "def iiitm_dataset():\n",
    "    rows = []\n",
    "\n",
    "    # for I\n",
    "    arr = np.linspace(5, 7, 100)\n",
    "    for y in arr:\n",
    "        x = 6\n",
    "        theta = math.degrees(math.atan(y/x))\n",
    "        rows.append([x, y, theta])\n",
    "\n",
    "    # for I\n",
    "    arr = np.linspace(5, 7, 100)\n",
    "    for y in arr:\n",
    "        x = 7\n",
    "        theta = math.degrees(math.atan(y/x))\n",
    "        rows.append([x, y, theta])\n",
    "\n",
    "    # for I\n",
    "    arr = np.linspace(5, 7, 100)\n",
    "    for y in arr:\n",
    "        x = 8\n",
    "        theta = math.degrees(math.atan(y/x))\n",
    "        rows.append([x, y, theta])\n",
    "\n",
    "    # for T\n",
    "    arr = np.linspace(8.5, 10.5, 100)\n",
    "    for x in arr:\n",
    "        y = 7\n",
    "        theta = math.degrees(math.atan(y/x))\n",
    "        rows.append([x, y, theta])\n",
    "\n",
    "    arr = np.linspace(5, 7, 100)\n",
    "    for y in arr:\n",
    "        x = 9.5\n",
    "        theta = math.degrees(math.atan(y/x))\n",
    "        rows.append([x, y, theta])\n",
    "\n",
    "    # for M\n",
    "    arr = np.linspace(5, 7, 100)\n",
    "    for y in arr:\n",
    "        x = 11\n",
    "        theta = math.degrees(math.atan(y/x))\n",
    "        rows.append([x, y, theta])\n",
    "\n",
    "    arr = np.linspace(5, 7, 100)\n",
    "    for y in arr:\n",
    "        x = ((-y)+29)/2\n",
    "        theta = math.degrees(math.atan(y/x))\n",
    "        rows.append([x, y, theta])\n",
    "\n",
    "    arr = np.linspace(5, 7, 100)\n",
    "    for y in arr:\n",
    "        x = ((y)+19)/2\n",
    "        theta = math.degrees(math.atan(y/x))\n",
    "        rows.append([x, y, theta])\n",
    "\n",
    "    arr = np.linspace(5, 7, 100)\n",
    "    for y in arr:\n",
    "        x = 13\n",
    "        theta = math.degrees(math.atan(y/x))\n",
    "        rows.append([x, y, theta])\n",
    "\n",
    "    df = pd.DataFrame(rows, columns=['x', 'y', 'theta'])\n",
    "    df.to_csv('iiitm.csv', index=False)\n",
    "    \n",
    "iiitm_dataset()"
   ]
  },
  {
   "cell_type": "code",
   "execution_count": 18,
   "metadata": {
    "id": "VnrWe37cO34L"
   },
   "outputs": [],
   "source": [
    "def three_link_forward_kinematics(theta1, theta2, theta3):\n",
    "    x = (np.cos(theta1)*l1)+(np.cos(theta1+theta2)*l2)+(np.cos(theta1+theta2+theta3)*l3)\n",
    "    y = (np.sin(theta1)*l1)+(np.sin(theta1+theta2)*l2)+(np.sin(theta1+theta2+theta3)*l3)\n",
    "\n",
    "    return x, y"
   ]
  },
  {
   "cell_type": "code",
   "execution_count": 19,
   "metadata": {
    "id": "4ZBboPV-O6wW"
   },
   "outputs": [],
   "source": [
    "iiitm_data = pd.read_csv('iiitm.csv')\n",
    "iiitm_predictions = model.predict(iiitm_data.values)\n",
    "x_predictions, y_predictions = three_link_forward_kinematics(iiitm_predictions[:,0], iiitm_predictions[:,1], iiitm_predictions[:,2])"
   ]
  },
  {
   "cell_type": "code",
   "execution_count": 20,
   "metadata": {
    "colab": {
     "base_uri": "https://localhost:8080/",
     "height": 761
    },
    "id": "cEbxFD3ZO8n-",
    "outputId": "7f3d4d7d-1c3c-49d4-90dd-cf6733daa656"
   },
   "outputs": [
    {
     "data": {
      "image/png": "[encoded data removed]",
      "text/plain": [
       "<Figure size 432x288 with 1 Axes>"
      ]
     },
     "metadata": {
      "needs_background": "light"
     },
     "output_type": "display_data"
    },
    {
     "data": {
      "image/png": "[encoded data removed]",
      "text/plain": [
       "<Figure size 432x288 with 1 Axes>"
      ]
     },
     "metadata": {
      "needs_background": "light"
     },
     "output_type": "display_data"
    },
    {
     "data": {
      "image/png": "[encoded data removed]",
      "text/plain": [
       "<Figure size 432x288 with 1 Axes>"
      ]
     },
     "metadata": {
      "needs_background": "light"
     },
     "output_type": "display_data"
    }
   ],
   "source": [
    "# Original\n",
    "plt.plot(iiitm_data['x'], iiitm_data['y'], 'go')\n",
    "plt.show()\n",
    "\n",
    "# Predicted\n",
    "plt.plot(x_predictions, y_predictions, 'bo')\n",
    "plt.show()\n",
    "\n",
    "# Original and Predicted\n",
    "plt.plot(iiitm_data['x'], iiitm_data['y'], 'go')\n",
    "plt.plot(x_predictions, y_predictions, 'bo')\n",
    "plt.show()"
   ]
  },
  {
   "cell_type": "code",
   "execution_count": 107,
   "metadata": {
    "id": "u805xfz_PAzt"
   },
   "outputs": [],
   "source": [
    "def harsh_dataset():\n",
    "    rows = []\n",
    "\n",
    "    # for H\n",
    "    arr = np.linspace(5, 7, 100)\n",
    "    for y in arr:\n",
    "        x = 6\n",
    "        theta = math.degrees(math.atan(y/x))\n",
    "        rows.append([x, y, theta])\n",
    "    \n",
    "    arr = np.linspace(6,8,100)\n",
    "    for x in arr:\n",
    "        y = 6\n",
    "        theta = math.degrees(math.atan(y/x))\n",
    "        rows.append([x, y, theta])\n",
    "    \n",
    "    arr = np.linspace(5, 7, 100)\n",
    "    for y in arr:\n",
    "        x = 8\n",
    "        theta = math.degrees(math.atan(y/x))\n",
    "        rows.append([x, y, theta])\n",
    "    \n",
    "    # for A\n",
    "    arr = np.linspace(5, 7, 100)\n",
    "    for y in arr:\n",
    "        x = (y+15)/2\n",
    "        theta = math.degrees(math.atan(y/x))\n",
    "        rows.append([x, y, theta])\n",
    "    \n",
    "    arr = np.linspace(10.5, 11.5, 50)\n",
    "    for x in arr:\n",
    "        y = 6\n",
    "        theta = math.degrees(math.atan(y/x))\n",
    "        rows.append([x, y, theta])\n",
    "\n",
    "    arr = np.linspace(5, 7, 100)\n",
    "    for y in arr:\n",
    "        x = (-y+29)/2\n",
    "        theta = math.degrees(math.atan(y/x))\n",
    "        rows.append([x, y, theta])\n",
    "    \n",
    "    # for R\n",
    "    arr = np.linspace(5, 7, 100)\n",
    "    for y in arr:\n",
    "        x = 14\n",
    "        theta = math.degrees(math.atan(y/x))\n",
    "        rows.append([x, y, theta])\n",
    "    \n",
    "    arr = np.linspace(14, 16, 100)\n",
    "    for x in arr:\n",
    "        y = 7\n",
    "        theta = math.degrees(math.atan(y/x))\n",
    "        rows.append([x, y, theta])\n",
    "    \n",
    "    arr = np.linspace(6, 7, 100)\n",
    "    for y in arr:\n",
    "        x = 16\n",
    "        theta = math.degrees(math.atan(y/x))\n",
    "        rows.append([x, y, theta])\n",
    "    \n",
    "    arr = np.linspace(14, 16, 100)\n",
    "    for x in arr:\n",
    "        y = 6\n",
    "        theta = math.degrees(math.atan(y/x))\n",
    "        rows.append([x, y, theta])\n",
    "    \n",
    "    arr = np.linspace(5, 6, 100)\n",
    "    for y in arr:\n",
    "        x = (-3*y+46)/2\n",
    "        theta = math.degrees(math.atan(y/x))\n",
    "        rows.append([x, y, theta])\n",
    "    \n",
    "    # for S\n",
    "    arr = np.linspace(6, 7, 100)\n",
    "    for y in arr:\n",
    "        x = 18\n",
    "        theta = math.degrees(math.atan(y/x))\n",
    "        rows.append([x, y, theta])\n",
    "    \n",
    "    arr = np.linspace(18, 20, 100)\n",
    "    for x in arr:\n",
    "        y = 5\n",
    "        theta = math.degrees(math.atan(y/x))\n",
    "        rows.append([x, y, theta])\n",
    "    \n",
    "    arr = np.linspace(18, 20, 100)\n",
    "    for x in arr:\n",
    "        y = 6\n",
    "        theta = math.degrees(math.atan(y/x))\n",
    "        rows.append([x, y, theta])\n",
    "    \n",
    "    arr = np.linspace(18, 20, 100)\n",
    "    for x in arr:\n",
    "        y = 7\n",
    "        theta = math.degrees(math.atan(y/x))\n",
    "        rows.append([x, y, theta])\n",
    "    \n",
    "    \n",
    "    arr = np.linspace(5, 6, 100)\n",
    "    for y in arr:\n",
    "        x = 20\n",
    "        theta = math.degrees(math.atan(y/x))\n",
    "        rows.append([x, y, theta])\n",
    "        \n",
    "    # for H\n",
    "    arr = np.linspace(5, 7, 100)\n",
    "    for y in arr:\n",
    "        x = 22\n",
    "        theta = math.degrees(math.atan(y/x))\n",
    "        rows.append([x, y, theta])\n",
    "    \n",
    "    arr = np.linspace(22, 24, 100)\n",
    "    for x in arr:\n",
    "        y = 6\n",
    "        theta = math.degrees(math.atan(y/x))\n",
    "        rows.append([x, y, theta])\n",
    "    \n",
    "    arr = np.linspace(5, 7, 100)\n",
    "    for y in arr:\n",
    "        x = 24\n",
    "        theta = math.degrees(math.atan(y/x))\n",
    "        rows.append([x, y, theta])\n",
    "\n",
    "    df = pd.DataFrame(rows, columns=['x', 'y', 'theta'])\n",
    "    df.to_csv('harsh.csv', index=False)\n",
    "    \n",
    "harsh_dataset()"
   ]
  },
  {
   "cell_type": "code",
   "execution_count": 112,
   "metadata": {},
   "outputs": [],
   "source": [
    "harsh_data = pd.read_csv('harsh.csv')\n",
    "harsh_predictions = model.predict(harsh_data.values)\n",
    "\n",
    "x_predictions, y_predictions = three_link_forward_kinematics(harsh_predictions[:,0], harsh_predictions[:,1], harsh_predictions[:,2])"
   ]
  },
  {
   "cell_type": "code",
   "execution_count": 113,
   "metadata": {},
   "outputs": [
    {
     "data": {
      "image/png": "[encoded data removed]",
      "text/plain": [
       "<Figure size 432x288 with 1 Axes>"
      ]
     },
     "metadata": {
      "needs_background": "light"
     },
     "output_type": "display_data"
    },
    {
     "data": {
      "image/png": "[encoded data removed]",
      "text/plain": [
       "<Figure size 432x288 with 1 Axes>"
      ]
     },
     "metadata": {
      "needs_background": "light"
     },
     "output_type": "display_data"
    },
    {
     "data": {
      "image/png": "[encoded data removed]",
      "text/plain": [
       "<Figure size 432x288 with 1 Axes>"
      ]
     },
     "metadata": {
      "needs_background": "light"
     },
     "output_type": "display_data"
    }
   ],
   "source": [
    "plt.plot(harsh_data['x'], harsh_data['y'], 'go')\n",
    "plt.show()\n",
    "\n",
    "plt.plot(x_predictions, y_predictions, 'bo')\n",
    "plt.show()\n",
    "\n",
    "plt.plot(harsh_data['x'], harsh_data['y'], 'go')\n",
    "plt.plot(x_predictions, y_predictions, 'bo')\n",
    "plt.show()"
   ]
  }
 ],
 "metadata": {
  "colab": {
   "name": "Untitled1.ipynb",
   "provenance": []
  },
  "kernelspec": {
   "display_name": "Python 3",
   "language": "python",
   "name": "python3"
  },
  "language_info": {
   "codemirror_mode": {
    "name": "ipython",
    "version": 3
   },
   "file_extension": ".py",
   "mimetype": "text/x-python",
   "name": "python",
   "nbconvert_exporter": "python",
   "pygments_lexer": "ipython3",
   "version": "3.8.5"
  }
 },
 "nbformat": 4,
 "nbformat_minor": 4
}
